{
 "cells": [
  {
   "cell_type": "code",
   "execution_count": null,
   "id": "b252cf83-112e-4daa-aebe-927dfe519f6f",
   "metadata": {},
   "outputs": [],
   "source": [
    "#Use more data? : https://github.com/robertmartin8/PyPortfolioOpt/issues/263"
   ]
  },
  {
   "cell_type": "code",
   "execution_count": 37,
   "id": "b76a6f23-0db1-479e-a3b7-42ee65acbd9e",
   "metadata": {},
   "outputs": [],
   "source": [
    "import pandas as pd\n",
    "#from pypfopt.efficient_frontier import EfficientFrontier\n",
    "#from pypfopt import risk_models\n",
    "#from pypfopt import expected_returns\n",
    "from qiskit_finance.data_providers import RandomDataProvider, WikipediaDataProvider, YahooDataProvider\n",
    "\n",
    "import datetime\n",
    "import numpy as np\n",
    "import pandas as pd\n",
    "import matplotlib.pyplot as plt\n",
    "\n",
    "from dataloader import load_data, plot_data"
   ]
  },
  {
   "cell_type": "code",
   "execution_count": 40,
   "id": "4b8a44ad-1c31-4786-a627-b0b2593d1153",
   "metadata": {},
   "outputs": [
    {
     "ename": "TypeError",
     "evalue": "load_data() got an unexpected keyword argument 'num_assets'",
     "output_type": "error",
     "traceback": [
      "\u001b[0;31m---------------------------------------------------------------------------\u001b[0m",
      "\u001b[0;31mTypeError\u001b[0m                                 Traceback (most recent call last)",
      "Cell \u001b[0;32mIn[40], line 5\u001b[0m\n\u001b[1;32m      2\u001b[0m q \u001b[38;5;241m=\u001b[39m \u001b[38;5;241m0.5\u001b[39m                   \u001b[38;5;66;03m# set risk factor to 0.5\u001b[39;00m\n\u001b[1;32m      3\u001b[0m budget \u001b[38;5;241m=\u001b[39m \u001b[38;5;241m20\u001b[39m           \u001b[38;5;66;03m# set budget as defined in the problem\u001b[39;00m\n\u001b[0;32m----> 5\u001b[0m data \u001b[38;5;241m=\u001b[39m \u001b[43mload_data\u001b[49m\u001b[43m(\u001b[49m\u001b[43mRandomDataProvider\u001b[49m\u001b[43m,\u001b[49m\u001b[43m \u001b[49m\u001b[43mnum_assets\u001b[49m\u001b[38;5;241;43m=\u001b[39;49m\u001b[38;5;241;43m4\u001b[39;49m\u001b[43m)\u001b[49m \u001b[38;5;66;03m# Replace RandomDataProvider with YahooDataProvider as desired!\u001b[39;00m\n\u001b[1;32m      6\u001b[0m \u001b[38;5;28;01mif\u001b[39;00m data \u001b[38;5;129;01mis\u001b[39;00m \u001b[38;5;129;01mnot\u001b[39;00m \u001b[38;5;28;01mNone\u001b[39;00m:\n\u001b[1;32m      7\u001b[0m         data\u001b[38;5;241m.\u001b[39mrun()\n",
      "\u001b[0;31mTypeError\u001b[0m: load_data() got an unexpected keyword argument 'num_assets'"
     ]
    }
   ],
   "source": [
    "# Set parameters for assets and risk factor\n",
    "q = 0.5                   # set risk factor to 0.5\n",
    "budget = 20           # set budget as defined in the problem\n",
    "\n",
    "data = load_data(RandomDataProvider, num_assets=4) # Replace RandomDataProvider with YahooDataProvider as desired!\n",
    "if data is not None:\n",
    "        data.run()\n",
    "        plot_data(data)"
   ]
  },
  {
   "cell_type": "code",
   "execution_count": 27,
   "id": "9b5019a3-d70d-4962-86be-1d60493f5145",
   "metadata": {},
   "outputs": [
    {
     "name": "stdout",
     "output_type": "stream",
     "text": [
      "Expected annual return: 17.3%\n",
      "Annual volatility: 10.1%\n",
      "Sharpe Ratio: 1.52\n",
      "{0: 0.0, 1: 2.2911072572231, 2: 0.08157257567406999, 3: 0.0, 4: 1.0309221898204481, 5: 0.0, 6: 0.0, 7: 0.265661592011644, 8: 0.0, 9: 0.0, 10: 0.35431972299620396, 11: 1.17987914319143, 12: 1.024149551501026, 13: 0.0, 14: 3.344756576394332, 15: 4.20051248504333, 16: 2.830549453770856, 17: 0.0, 18: 0.0, 19: 0.0, 20: 0.0, 21: 3.396569452373568, 22: 0.0, 23: 0.0, 24: 0.0}\n"
     ]
    },
    {
     "name": "stderr",
     "output_type": "stream",
     "text": [
      "/opt/anaconda3/lib/python3.12/site-packages/pypfopt/expected_returns.py:32: UserWarning: Some returns are NaN. Please check your price data.\n",
      "  warnings.warn(\n",
      "/opt/anaconda3/lib/python3.12/site-packages/pypfopt/risk_models.py:70: UserWarning: The covariance matrix is non positive semidefinite. Amending eigenvalues.\n",
      "  warnings.warn(\n"
     ]
    }
   ],
   "source": [
    "# Read in price data\n",
    "df = pd.DataFrame(np.array(data._data).T)\n",
    "\n",
    "# Calculate expected returns and sample covariance\n",
    "mu = expected_returns.mean_historical_return(df)\n",
    "S = risk_models.sample_cov(df)\n",
    "\n",
    "# Optimize for maximal Sharpe ratio\n",
    "ef = EfficientFrontier(mu, S)\n",
    "weights = ef.max_sharpe(risk_free_rate=0.02)\n",
    "ef.portfolio_performance(verbose=True)\n",
    "\n",
    "allocations = {asset: amt*budget for asset, amt in weights.items()}\n",
    "print(allocations)"
   ]
  }
 ],
 "metadata": {
  "kernelspec": {
   "display_name": "Python 3 (ipykernel)",
   "language": "python",
   "name": "python3"
  },
  "language_info": {
   "codemirror_mode": {
    "name": "ipython",
    "version": 3
   },
   "file_extension": ".py",
   "mimetype": "text/x-python",
   "name": "python",
   "nbconvert_exporter": "python",
   "pygments_lexer": "ipython3",
   "version": "3.11.3"
  }
 },
 "nbformat": 4,
 "nbformat_minor": 5
}
