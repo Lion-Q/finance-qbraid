{
 "cells": [
  {
   "cell_type": "code",
   "execution_count": 15,
   "id": "19a6b916-981c-42cb-9637-c720c0e1f782",
   "metadata": {},
   "outputs": [],
   "source": [
    "# Create circuit to test transpiler on\n",
    "from qiskit import QuantumCircuit, transpile\n",
    "#from qiskit.transpiler.preset_passmanagers import generate_preset_pass_manager\n",
    "\n",
    "from qiskit.circuit.library import EfficientSU2\n",
    "from qiskit.circuit import ParameterVector\n",
    "from qiskit.result import QuasiDistribution\n",
    "\n",
    "# Use Statevector object to calculate the ideal output\n",
    "from qiskit.quantum_info import Statevector\n",
    "from qiskit.visualization import plot_histogram\n",
    "\n",
    "# These are all for actual quantum computer \n",
    "from qiskit_ibm_runtime import Session\n",
    "from qiskit_ibm_runtime import SamplerV2 as Sampler\n",
    "from qiskit.providers.jobstatus import JobStatus \n",
    "from qiskit_ibm_runtime import QiskitRuntimeService\n",
    "from qiskit_ibm_provider import IBMProvider\n",
    "\n",
    "from qiskit_algorithms import NumPyMinimumEigensolver, SamplingVQE\n",
    "from qiskit_algorithms.optimizers import COBYLA\n",
    "from qiskit_finance.applications.optimization import PortfolioOptimization\n",
    "from qiskit_finance.data_providers import RandomDataProvider\n",
    "from qiskit_optimization.algorithms import MinimumEigenOptimizer\n",
    "\n",
    "import numpy as np\n",
    "import matplotlib.pyplot as plt\n",
    "import datetime"
   ]
  },
  {
   "cell_type": "markdown",
   "id": "a7e7b6a4-f8b0-4a44-8058-48bbd30e665d",
   "metadata": {},
   "source": [
    "## Setting up VQE"
   ]
  },
  {
   "cell_type": "code",
   "execution_count": 16,
   "id": "96d89d28-0d31-4b74-8455-3aafe5b214e3",
   "metadata": {},
   "outputs": [
    {
     "name": "stdout",
     "output_type": "stream",
     "text": [
      "40\n"
     ]
    }
   ],
   "source": [
    "# Parameters from what we found was optimized in simulation\n",
    "params = [ 2.64609588e-07, -4.01850864e-05,  2.66263480e-03,  4.48985492e-01,\n",
    "  2.12317577e+00,  1.80258465e+00,  2.06128183e+00,  1.84302648e+00,\n",
    "  1.75695393e+00,  1.61905146e+00,  9.96768151e-02,  9.90213915e-02,\n",
    "  9.79905114e-02,  8.55998880e-02,  3.79637618e-02,  8.86462454e-03,\n",
    "  2.25877163e-02,  1.50210728e-02,  1.04716486e-02,  2.13831683e-03,\n",
    "  3.41282337e-02,  3.07630523e-02, -4.94275710e-03, -2.57485253e-01,\n",
    "  7.02772941e-01,  5.42417752e-01,  4.82393408e-01,  8.49663532e-01,\n",
    "  9.09941180e-01,  1.39132174e+00,  1.00000000e-01,  1.00000000e-01,\n",
    "  1.00000000e-01,  1.00000000e-01,  1.00000000e-01,  1.00000000e-01,\n",
    "  1.00000000e-01,  1.00000000e-01,  1.00000000e-01,  1.00000000e-01]\n",
    "\n",
    "print(len(params))"
   ]
  },
  {
   "cell_type": "code",
   "execution_count": 38,
   "id": "18c142ed-5e19-46f6-bb2c-9c231602a1ef",
   "metadata": {},
   "outputs": [],
   "source": [
    "# set number of assets which is equal to number of qubits\n",
    "num_assets = 10\n",
    "seed = 479  # To keep consistently generated data\n",
    "\n",
    "p_vec = ParameterVector(\"theta\", 40)\n",
    "for i in range(len(params)):\n",
    "    p_vec.params[i] = params[i]\n",
    "    \n",
    "SU2_linear = EfficientSU2(num_assets, entanglement='linear', reps=1)\n",
    "\n",
    "# Generate expected return and covariance matrix from (random) time-series\n",
    "stocks = [(\"TICKER%s\" % i) for i in range(num_assets)]\n",
    "data = RandomDataProvider( # Change to YahooDataProvider for real stock data\n",
    "    tickers=stocks,\n",
    "    start=datetime.datetime(2023, 1, 1),\n",
    "    end=datetime.datetime(2023, 1, 30),\n",
    "    seed=seed,\n",
    ")\n",
    "\n",
    "data.run()\n",
    "ev = data.get_period_return_mean_vector() # Initial state to optimize over\n",
    "covariance = data.get_period_return_covariance_matrix() # Hamiltonian Matrix\n",
    "\n",
    "risk_factor = 0.5  # set risk factor\n",
    "budget = 5  # set budget (number of assets to keep)\n",
    "\n",
    "qp = PortfolioOptimization(expected_returns=ev, covariances=covariance, risk_factor=risk_factor, budget=budget).to_quadratic_program()\n",
    "#qubo = converter.convert(qp) #constraintless format to pass as operator"
   ]
  },
  {
   "cell_type": "markdown",
   "id": "23fe9ee2-d878-4ece-982a-ce803e44b69c",
   "metadata": {},
   "source": [
    "## Setting up the Quantum Computer"
   ]
  },
  {
   "cell_type": "code",
   "execution_count": 22,
   "id": "d0ed0cb6-e501-4911-854c-6a989314c0a0",
   "metadata": {},
   "outputs": [],
   "source": [
    "# To get your own token make an account here: https://quantum.ibm.com\n",
    "# To run on hardware with API token below only run once per kernel load\n",
    "service = QiskitRuntimeService(channel=\"ibm_quantum\", \n",
    "                               token=\"a6cee0a56416a409ee6af94b1cf3bb957c083d2bfd102c47416849a4455cd711626e8bba737191cf1882848c9ebe6d7e6ba17cda21c913546cec73323f71a95b\")\n"
   ]
  },
  {
   "cell_type": "code",
   "execution_count": 23,
   "id": "36239d1c-3bbf-4b0f-a65b-faab4714f36e",
   "metadata": {},
   "outputs": [
    {
     "data": {
      "text/plain": [
       "[<IBMBackend('ibm_brisbane')>,\n",
       " <IBMBackend('ibm_kyiv')>,\n",
       " <IBMBackend('ibm_sherbrooke')>]"
      ]
     },
     "execution_count": 23,
     "metadata": {},
     "output_type": "execute_result"
    }
   ],
   "source": [
    "# List real available quantum computer backends\n",
    "service.backends(simulator=False, operational=True, min_num_qubits=25)"
   ]
  },
  {
   "cell_type": "code",
   "execution_count": 24,
   "id": "06c11b01-be5a-425e-8c26-9278ea2528b9",
   "metadata": {},
   "outputs": [],
   "source": [
    "# Choosing Brisbane as it is currently the least busy\n",
    "real_device = service.backend('ibm_brisbane')"
   ]
  },
  {
   "cell_type": "code",
   "execution_count": 39,
   "id": "3e597191-211c-413f-8822-ef586a59ae88",
   "metadata": {},
   "outputs": [],
   "source": []
  },
  {
   "cell_type": "code",
   "execution_count": 49,
   "id": "d43ac791-bc8b-4d02-aebd-1f85faa850f8",
   "metadata": {},
   "outputs": [
    {
     "ename": "TypeError",
     "evalue": "'ParameterVectorElement' object does not support item assignment",
     "output_type": "error",
     "traceback": [
      "\u001b[0;31m---------------------------------------------------------------------------\u001b[0m",
      "\u001b[0;31mTypeError\u001b[0m                                 Traceback (most recent call last)",
      "Cell \u001b[0;32mIn[49], line 4\u001b[0m\n\u001b[1;32m      1\u001b[0m SU2_linear\u001b[38;5;241m.\u001b[39mmeasure_all()\n\u001b[1;32m      3\u001b[0m \u001b[38;5;66;03m# bound_SU2 = [SU2_linear.bind_parameters({p: val for val in values})]\u001b[39;00m\n\u001b[0;32m----> 4\u001b[0m \u001b[43mSU2_linear\u001b[49m\u001b[38;5;241;43m.\u001b[39;49m\u001b[43mparameters\u001b[49m\u001b[43m[\u001b[49m\u001b[38;5;241;43m0\u001b[39;49m\u001b[43m]\u001b[49m\u001b[43m[\u001b[49m\u001b[38;5;241;43m0\u001b[39;49m\u001b[43m]\u001b[49m \u001b[38;5;241m=\u001b[39m p_vec\u001b[38;5;241m.\u001b[39mparams[\u001b[38;5;241m0\u001b[39m]\n",
      "\u001b[0;31mTypeError\u001b[0m: 'ParameterVectorElement' object does not support item assignment"
     ]
    }
   ],
   "source": [
    "SU2_linear.measure_all()\n",
    "\n",
    "# bound_SU2 = [SU2_linear.bind_parameters({p: val for val in values})]\n",
    "SU2_linear.parameters[0][0] = p_vec.params[0]"
   ]
  },
  {
   "cell_type": "code",
   "execution_count": 37,
   "id": "338f1764-fdb4-4ab7-a3d0-bb30f984a4ed",
   "metadata": {},
   "outputs": [
    {
     "name": "stdout",
     "output_type": "stream",
     "text": [
      "Depth of circuit is 0\n"
     ]
    }
   ],
   "source": [
    "real_device = service.backend('ibm_brisbane')\n",
    "transpiled_SU2_linear = transpile(SU2_linear, real_device, optimization_level=0)\n",
    "print(\"Depth of circuit is \" + str(transpiled_SU2_linear.depth()))"
   ]
  },
  {
   "cell_type": "code",
   "execution_count": null,
   "id": "6ba6ac98-c58f-43a4-a43f-1d315093ed4c",
   "metadata": {},
   "outputs": [],
   "source": [
    "job_vqe = real_device.run(transpiled_SU2_linear, shots=1000)\n",
    "print('Job ID for VQE:', job_vqe.job_id())\n",
    "job_id = job_vqe.job_id()"
   ]
  },
  {
   "cell_type": "code",
   "execution_count": 47,
   "id": "c9de7dcb-e9a5-4635-97dc-55a3f2095405",
   "metadata": {},
   "outputs": [
    {
     "ename": "ValueError",
     "evalue": "A backend or session must be specified.",
     "output_type": "error",
     "traceback": [
      "\u001b[0;31m---------------------------------------------------------------------------\u001b[0m",
      "\u001b[0;31mValueError\u001b[0m                                Traceback (most recent call last)",
      "Cell \u001b[0;32mIn[47], line 3\u001b[0m\n\u001b[1;32m      1\u001b[0m cobyla \u001b[38;5;241m=\u001b[39m COBYLA()\n\u001b[1;32m      2\u001b[0m cobyla\u001b[38;5;241m.\u001b[39mset_options(maxiter\u001b[38;5;241m=\u001b[39m\u001b[38;5;241m500\u001b[39m)\n\u001b[0;32m----> 3\u001b[0m svqe_mes \u001b[38;5;241m=\u001b[39m SamplingVQE(sampler\u001b[38;5;241m=\u001b[39m\u001b[43mSampler\u001b[49m\u001b[43m(\u001b[49m\u001b[43m)\u001b[49m, ansatz\u001b[38;5;241m=\u001b[39mSU2_full, optimizer\u001b[38;5;241m=\u001b[39mcobyla)\n\u001b[1;32m      4\u001b[0m svqe \u001b[38;5;241m=\u001b[39m MinimumEigenOptimizer(svqe_mes)\n\u001b[1;32m      5\u001b[0m result \u001b[38;5;241m=\u001b[39m svqe\u001b[38;5;241m.\u001b[39msolve(qp)\n",
      "File \u001b[0;32m/usr/local/lib/python3.11/site-packages/qiskit_ibm_runtime/sampler.py:99\u001b[0m, in \u001b[0;36mSamplerV2.__init__\u001b[0;34m(self, mode, options)\u001b[0m\n\u001b[1;32m     90\u001b[0m \u001b[38;5;28;01mif\u001b[39;00m \u001b[38;5;28misinstance\u001b[39m(mode, \u001b[38;5;28mstr\u001b[39m):\n\u001b[1;32m     91\u001b[0m     issue_deprecation_msg(\n\u001b[1;32m     92\u001b[0m         msg\u001b[38;5;241m=\u001b[39m\u001b[38;5;124m\"\u001b[39m\u001b[38;5;124mPassing a backend as a string is deprecated\u001b[39m\u001b[38;5;124m\"\u001b[39m,\n\u001b[1;32m     93\u001b[0m         version\u001b[38;5;241m=\u001b[39m\u001b[38;5;124m\"\u001b[39m\u001b[38;5;124m0.26.0\u001b[39m\u001b[38;5;124m\"\u001b[39m,\n\u001b[0;32m   (...)\u001b[0m\n\u001b[1;32m     96\u001b[0m         stacklevel\u001b[38;5;241m=\u001b[39m\u001b[38;5;241m2\u001b[39m,\n\u001b[1;32m     97\u001b[0m     )\n\u001b[0;32m---> 99\u001b[0m \u001b[43mBasePrimitiveV2\u001b[49m\u001b[38;5;241;43m.\u001b[39;49m\u001b[38;5;21;43m__init__\u001b[39;49m\u001b[43m(\u001b[49m\u001b[38;5;28;43mself\u001b[39;49m\u001b[43m,\u001b[49m\u001b[43m \u001b[49m\u001b[43mmode\u001b[49m\u001b[38;5;241;43m=\u001b[39;49m\u001b[43mmode\u001b[49m\u001b[43m,\u001b[49m\u001b[43m \u001b[49m\u001b[43moptions\u001b[49m\u001b[38;5;241;43m=\u001b[39;49m\u001b[43moptions\u001b[49m\u001b[43m)\u001b[49m\n",
      "File \u001b[0;32m/usr/local/lib/python3.11/site-packages/qiskit_ibm_runtime/base_primitive.py:153\u001b[0m, in \u001b[0;36mBasePrimitiveV2.__init__\u001b[0;34m(self, mode, options)\u001b[0m\n\u001b[1;32m    132\u001b[0m \u001b[38;5;28;01mdef\u001b[39;00m \u001b[38;5;21m__init__\u001b[39m(\n\u001b[1;32m    133\u001b[0m     \u001b[38;5;28mself\u001b[39m,\n\u001b[1;32m    134\u001b[0m     mode: Optional[Union[BackendV1, BackendV2, Session, Batch, \u001b[38;5;28mstr\u001b[39m]] \u001b[38;5;241m=\u001b[39m \u001b[38;5;28;01mNone\u001b[39;00m,\n\u001b[1;32m    135\u001b[0m     options: Optional[Union[Dict, OptionsT]] \u001b[38;5;241m=\u001b[39m \u001b[38;5;28;01mNone\u001b[39;00m,\n\u001b[1;32m    136\u001b[0m ):\n\u001b[1;32m    137\u001b[0m \u001b[38;5;250m    \u001b[39m\u001b[38;5;124;03m\"\"\"Initializes the primitive.\u001b[39;00m\n\u001b[1;32m    138\u001b[0m \n\u001b[1;32m    139\u001b[0m \u001b[38;5;124;03m    Args:\u001b[39;00m\n\u001b[0;32m   (...)\u001b[0m\n\u001b[1;32m    151\u001b[0m \u001b[38;5;124;03m        ValueError: Invalid arguments are given.\u001b[39;00m\n\u001b[1;32m    152\u001b[0m \u001b[38;5;124;03m    \"\"\"\u001b[39;00m\n\u001b[0;32m--> 153\u001b[0m     \u001b[38;5;28mself\u001b[39m\u001b[38;5;241m.\u001b[39m_mode, \u001b[38;5;28mself\u001b[39m\u001b[38;5;241m.\u001b[39m_service, \u001b[38;5;28mself\u001b[39m\u001b[38;5;241m.\u001b[39m_backend \u001b[38;5;241m=\u001b[39m \u001b[43m_get_mode_service_backend\u001b[49m\u001b[43m(\u001b[49m\u001b[43mmode\u001b[49m\u001b[43m)\u001b[49m\n\u001b[1;32m    154\u001b[0m     \u001b[38;5;28mself\u001b[39m\u001b[38;5;241m.\u001b[39m_set_options(options)\n",
      "File \u001b[0;32m/usr/local/lib/python3.11/site-packages/qiskit_ibm_runtime/base_primitive.py:123\u001b[0m, in \u001b[0;36m_get_mode_service_backend\u001b[0;34m(mode)\u001b[0m\n\u001b[1;32m    121\u001b[0m     \u001b[38;5;28;01mreturn\u001b[39;00m mode, service, backend  \u001b[38;5;66;03m# type: ignore\u001b[39;00m\n\u001b[1;32m    122\u001b[0m \u001b[38;5;28;01melse\u001b[39;00m:\n\u001b[0;32m--> 123\u001b[0m     \u001b[38;5;28;01mraise\u001b[39;00m \u001b[38;5;167;01mValueError\u001b[39;00m(\u001b[38;5;124m\"\u001b[39m\u001b[38;5;124mA backend or session must be specified.\u001b[39m\u001b[38;5;124m\"\u001b[39m)\n",
      "\u001b[0;31mValueError\u001b[0m: A backend or session must be specified."
     ]
    }
   ],
   "source": [
    "cobyla = COBYLA()\n",
    "cobyla.set_options(maxiter=500)\n",
    "svqe_mes = SamplingVQE(sampler=Sampler(), ansatz=SU2_full, optimizer=cobyla)\n",
    "svqe = MinimumEigenOptimizer(svqe_mes)\n",
    "result = svqe.solve(qp)\n",
    "\n",
    "# Print the optimal portfolio based on budget and risk \n",
    "def print_result(result):\n",
    "    selection = result.x\n",
    "    value = result.fval\n",
    "    print(\"Optimal: selection {}, value {:.4f}\".format(selection, value))\n",
    "\n",
    "    eigenstate = result.min_eigen_solver_result.eigenstate\n",
    "    probabilities = (\n",
    "        eigenstate.binary_probabilities()\n",
    "        if isinstance(eigenstate, QuasiDistribution)\n",
    "        else {k: np.abs(v) ** 2 for k, v in eigenstate.to_dict().items()}\n",
    "    )\n",
    "\n",
    "    # Prints all the options for portfolio and their vale\n",
    "    print(\"\\n----------------- Full result ---------------------\")\n",
    "    print(\"This is a list of all possible porfolio options and their valuation:\")\n",
    "    print(\"\\n selection\\t value \\t\\t probability\")\n",
    "    print(\"---------------------------------------------------\")\n",
    "    probabilities = sorted(probabilities.items(), key=lambda x: x[1], reverse=True)\n",
    "\n",
    "    for k, v in probabilities:\n",
    "        x = np.array([int(i) for i in list(reversed(k))])\n",
    "        value = qp.objective.evaluate(x)\n",
    "        print(\"%10s\\t%.4f\\t\\t%.4f\" % (x, value, v))\n",
    "\n",
    "\n",
    "print_result(result)"
   ]
  },
  {
   "cell_type": "code",
   "execution_count": null,
   "id": "459b05b7-2d48-489e-8640-fbc9a5216849",
   "metadata": {},
   "outputs": [],
   "source": []
  }
 ],
 "metadata": {
  "kernelspec": {
   "display_name": "Python 3 (ipykernel)",
   "language": "python",
   "name": "python3"
  },
  "language_info": {
   "codemirror_mode": {
    "name": "ipython",
    "version": 3
   },
   "file_extension": ".py",
   "mimetype": "text/x-python",
   "name": "python",
   "nbconvert_exporter": "python",
   "pygments_lexer": "ipython3",
   "version": "3.11.8"
  }
 },
 "nbformat": 4,
 "nbformat_minor": 5
}
