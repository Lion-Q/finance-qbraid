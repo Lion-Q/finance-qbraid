{
 "cells": [
  {
   "cell_type": "markdown",
   "id": "20b5a518-9363-4f68-bf50-054f23b46894",
   "metadata": {},
   "source": [
    "# Lion-Q-VQE\n",
    "## Our teams take on implmenting a VQE and using it to optimize a Financial Portfolio"
   ]
  },
  {
   "cell_type": "markdown",
   "id": "07fa2c2b-30d2-4b91-a6a5-eb23c0926b81",
   "metadata": {},
   "source": [
    "### Imports"
   ]
  },
  {
   "cell_type": "code",
   "execution_count": 37,
   "id": "1ba88321-2f8f-40e4-a45f-7b9368d2a8aa",
   "metadata": {},
   "outputs": [],
   "source": [
    "from qiskit.circuit.library import TwoLocal, ZZFeatureMap, EfficientSU2\n",
    "from qiskit.result import QuasiDistribution\n",
    "from qiskit.primitives import Sampler as sampler_sim\n",
    "from qiskit.primitives import BackendSampler, Estimator\n",
    "\n",
    "from qiskit_algorithms.gradients import FiniteDiffEstimatorGradient, SPSAEstimatorGradient, LinCombEstimatorGradient, ParamShiftEstimatorGradient, ParamShiftSamplerGradient, QFI, DerivativeType, LinCombQGT\n",
    "from qiskit_optimization.translators import from_docplex_mp\n",
    "from qiskit_algorithms.optimizers import COBYLA\n",
    "from qiskit_finance.applications.optimization import PortfolioOptimization\n",
    "from qiskit_finance.data_providers import RandomDataProvider\n",
    "from qiskit_optimization.algorithms import MinimumEigenOptimizer\n",
    "\n",
    "import numpy as np\n",
    "import matplotlib.pyplot as plt\n",
    "import datetime"
   ]
  },
  {
   "cell_type": "markdown",
   "id": "1957a969-96e6-47a9-9092-62b9ced9b76f",
   "metadata": {},
   "source": [
    "### Global Variables"
   ]
  },
  {
   "cell_type": "code",
   "execution_count": 29,
   "id": "22a96f34-cc84-4c56-8d7f-15eaab12c78f",
   "metadata": {},
   "outputs": [
    {
     "name": "stdout",
     "output_type": "stream",
     "text": [
      "<qiskit_finance.data_providers.random_data_provider.RandomDataProvider object at 0x16fef35d0>\n"
     ]
    }
   ],
   "source": [
    "# set number of assets which is equal to number of qubits\n",
    "num_assets = 25\n",
    "seed = 479\n",
    "\n",
    "# Generate expected return and covariance matrix from (random) time-series\n",
    "stocks = [(\"TICKER%s\" % i) for i in range(num_assets)]\n",
    "data = RandomDataProvider(\n",
    "    tickers=stocks,\n",
    "    start=datetime.datetime(2023, 1, 1),\n",
    "    end=datetime.datetime(2023, 1, 30),\n",
    "    seed=seed,\n",
    ")\n",
    "\n",
    "print(data)"
   ]
  },
  {
   "cell_type": "code",
   "execution_count": 30,
   "id": "13ea11bc-eef9-499a-9370-6dbaee199ec9",
   "metadata": {},
   "outputs": [
    {
     "name": "stdout",
     "output_type": "stream",
     "text": [
      "<qiskit_finance.data_providers.random_data_provider.RandomDataProvider object at 0x16fef35d0>\n"
     ]
    }
   ],
   "source": [
    "data.run()\n",
    "ev = data.get_period_return_mean_vector() # Initial state to optimize over\n",
    "covariance = data.get_period_return_covariance_matrix() # Hamiltonian Matrix\n",
    "\n",
    "risk_factor = 0.5  # set risk factor\n",
    "budget = 20  # set budget\n",
    "#penalty = num_assets  # set parameter to scale the budget penalty term\n",
    "\n",
    "qp = PortfolioOptimization(expected_returns=ev, covariances=covariance, risk_factor=risk_factor, budget=budget).to_quadratic_program()\n",
    "print(data)"
   ]
  },
  {
   "cell_type": "code",
   "execution_count": 31,
   "id": "58421145-2b66-47a4-8160-266a4890d471",
   "metadata": {},
   "outputs": [],
   "source": [
    "estimator = Estimator()\n",
    "optimizer = COBYLA()"
   ]
  },
  {
   "cell_type": "markdown",
   "id": "059696c0-e686-4551-a504-e861b924bead",
   "metadata": {},
   "source": [
    "### Ansatz Implementation Comparison and Analysis"
   ]
  },
  {
   "cell_type": "code",
   "execution_count": 42,
   "id": "04e025d4-2cb2-430d-837e-69684d2c2fbf",
   "metadata": {},
   "outputs": [],
   "source": [
    "# 3 common quantum circuits to use for ansatz with linear entanglement\n",
    "ZZ = ZZFeatureMap(feature_dimension=num_assets, entanglement='linear', reps=1)\n",
    "SU2 = EfficientSU2(num_assets, entanglement='linear', reps=1)\n",
    "TwoL = TwoLocal(num_assets, entanglement='linear', reps=1)\n",
    "linear_ansatz = [ZZ, SU2, TwoL]\n",
    "\n",
    "# 3 common quantum circuits to use for ansatz with cyclic entanglement\n",
    "ZZ = ZZFeatureMap(feature_dimension=num_assets, entanglement='cyclic', reps=1)\n",
    "SU2 = EfficientSU2(num_assets, entanglement='cyclic', reps=1)\n",
    "TwoL = TwoLocal(num_assets, entanglement='cyclic', reps=1)\n",
    "cyclic_ansatz = [ZZ, SU2, TwoL]\n",
    "\n",
    "# 3 common quantum circuits to use for ansatz with full entanglement\n",
    "ZZ = ZZFeatureMap(feature_dimension=num_assets, entanglement='full', reps=1)\n",
    "SU2 = EfficientSU2(num_assets, entanglement='full', reps=1)\n",
    "TwoL = TwoLocal(num_assets, entanglement='full', reps=1)\n",
    "full_ansatz = [ZZ, SU2, TwoL]\n",
    "\n",
    "# master list for ansatz circuits shape is 3 x 3\n",
    "ansatz_list = [linear_ansatz, cyclic_ansatz, full_ansatz]"
   ]
  },
  {
   "cell_type": "markdown",
   "id": "73d5d764-5499-468c-a84f-9f195a04bcbb",
   "metadata": {},
   "source": [
    "### Gradient Comparison and Analysis"
   ]
  },
  {
   "cell_type": "code",
   "execution_count": 21,
   "id": "5e2ade3f-a498-4054-a2c0-1873f37aac7c",
   "metadata": {},
   "outputs": [],
   "source": [
    "grad_finite = FiniteDiffEstimatorGradient(estimator, epsilon=0.001)\n",
    "grad_SPSA = SPSAEstimatorGradient(estimator, epsilon=0.001, batch_size=10, seed=50)\n",
    "qgt = LinCombQGT(estimator, derivative_type=DerivativeType.COMPLEX)\n",
    "grad_pshift = ParamShiftEstimatorGradient(estimator)\n",
    "pshift_sampler = ParamShiftSamplerGradient(sampler_sim())\n",
    "grad_natural = QFI(qgt)"
   ]
  },
  {
   "cell_type": "code",
   "execution_count": null,
   "id": "e7ac9a6d-4887-4434-b4cd-329efc5fc1f9",
   "metadata": {},
   "outputs": [],
   "source": [
    "def gd(init_params, p, iterations, H, step):\n",
    "    params = [[init_params], [init_params], [init_params], [init_params]]\n",
    "    qc = EfficientSU2(num_qubits=4, reps=p, entanglement=\"linear\", insert_barriers = True)\n",
    "    for i in range(iterations):\n",
    "        grad_finite_res = grad_finite.run([qc], [H], [params[0][i]]).result().gradients[0]\n",
    "        params[0].append(params[0][i] - step * grad_finite_res)\n",
    "        \n",
    "        grad_spsa_res = grad_SPSA.run([qc], [H], [params[1][i]]).result().gradients[0]\n",
    "        params[1].append(params[1][i] - step * grad_spsa_res)\n",
    "        \n",
    "        qfis = grad_natural.run([qc], [params[2][i]]).result().qfis[0]\n",
    "        tmp_grad = grad_finite.run([qc], [H], [params[2][i]]).result().gradients[0]\n",
    "        params[2].append(params[2][i] - step * np.dot(np.linalg.pinv(qfis), tmp_grad))\n",
    "\n",
    "        grad_pshift_res = grad_pshift.run([qc], [H], [params[3][i]]).result().gradients[0]\n",
    "        params[3].append(params[3][i] - step * grad_pshift_res)\n",
    "        \n",
    "        #step = step * .75 # Modification to decay the step distance \n",
    "    return params"
   ]
  },
  {
   "cell_type": "markdown",
   "id": "394dcb09-6568-4ab2-b33e-ba5070b05ad8",
   "metadata": {},
   "source": [
    "### Entanglement Schemes Comparison and Analysis"
   ]
  },
  {
   "cell_type": "code",
   "execution_count": null,
   "id": "23a8ab18-c5bb-4c6d-b788-2beb6d6d88b9",
   "metadata": {},
   "outputs": [],
   "source": []
  }
 ],
 "metadata": {
  "kernelspec": {
   "display_name": "Python 3 (ipykernel)",
   "language": "python",
   "name": "python3"
  },
  "language_info": {
   "codemirror_mode": {
    "name": "ipython",
    "version": 3
   },
   "file_extension": ".py",
   "mimetype": "text/x-python",
   "name": "python",
   "nbconvert_exporter": "python",
   "pygments_lexer": "ipython3",
   "version": "3.11.8"
  }
 },
 "nbformat": 4,
 "nbformat_minor": 5
}
